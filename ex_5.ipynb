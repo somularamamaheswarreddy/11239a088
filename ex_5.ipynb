{
  "nbformat": 4,
  "nbformat_minor": 0,
  "metadata": {
    "colab": {
      "provenance": [],
      "authorship_tag": "ABX9TyMFeCDnG+JPUl+G2U43lQc0",
      "include_colab_link": true
    },
    "kernelspec": {
      "name": "python3",
      "display_name": "Python 3"
    },
    "language_info": {
      "name": "python"
    }
  },
  "cells": [
    {
      "cell_type": "markdown",
      "metadata": {
        "id": "view-in-github",
        "colab_type": "text"
      },
      "source": [
        "<a href=\"https://colab.research.google.com/github/somularamamaheswarreddy/11239a088/blob/main/ex_5.ipynb\" target=\"_parent\"><img src=\"https://colab.research.google.com/assets/colab-badge.svg\" alt=\"Open In Colab\"/></a>"
      ]
    },
    {
      "cell_type": "code",
      "execution_count": 1,
      "metadata": {
        "colab": {
          "base_uri": "https://localhost:8080/"
        },
        "id": "YhJ182ji189n",
        "outputId": "0bc176a3-47de-4264-e4a9-242ad3b115b5"
      },
      "outputs": [
        {
          "output_type": "stream",
          "name": "stdout",
          "text": [
            "Minimum cost of travelling salesman tour is: 80\n",
            "The shortest path is: 0 -> 0 -> 2 -> 3 -> 1\n"
          ]
        }
      ],
      "source": [
        "import sys\n",
        "INF = sys.maxsize\n",
        "def tsp_dp(dist):\n",
        "    n = len(dist)\n",
        "    dp = [[INF] * n for _ in range(1 << n)]\n",
        "    parent = [[-1] * n for _ in range(1 << n)]\n",
        "    dp[1][0] = 0\n",
        "    for mask in range(1, 1 << n):\n",
        "        for u in range(n):\n",
        "            if mask & (1 << u):\n",
        "                for v in range(n):\n",
        "                    if v != u and (mask & (1 << v)):\n",
        "                        cost = dp[mask ^ (1 << u)][v] + dist[v][u]\n",
        "                        if cost < dp[mask][u]:\n",
        "                            dp[mask][u] = cost\n",
        "                            parent[mask][u] = v\n",
        "    answer = INF\n",
        "    last_city = -1\n",
        "    for i in range(1, n):\n",
        "        cost = dp[(1 << n) - 1][i] + dist[i][0]\n",
        "        if cost < answer:\n",
        "            answer = cost\n",
        "            last_city = i\n",
        "    path = []\n",
        "    mask = (1 << n) - 1\n",
        "    while last_city != -1:\n",
        "        path.append(last_city)\n",
        "        next_city = parent[mask][last_city]\n",
        "        mask ^= (1 << last_city)\n",
        "        last_city = next_city\n",
        "    path.append(0)\n",
        "    path.reverse()\n",
        "    return answer, path\n",
        "dist = [\n",
        "    [0, 10, 15, 20],\n",
        "    [10, 0, 35, 25],\n",
        "    [15, 35, 0, 30],\n",
        "    [20, 25, 30, 0]\n",
        "]\n",
        "result, path = tsp_dp(dist)\n",
        "print(f\"Minimum cost of travelling salesman tour is: {result}\")\n",
        "print(f\"The shortest path is: {' -> '.join(map(str, path))}\")"
      ]
    }
  ]
}