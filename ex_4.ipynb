{
  "nbformat": 4,
  "nbformat_minor": 0,
  "metadata": {
    "colab": {
      "provenance": [],
      "authorship_tag": "ABX9TyM3CCSDsJQjuX7+lKdC05u3",
      "include_colab_link": true
    },
    "kernelspec": {
      "name": "python3",
      "display_name": "Python 3"
    },
    "language_info": {
      "name": "python"
    }
  },
  "cells": [
    {
      "cell_type": "markdown",
      "metadata": {
        "id": "view-in-github",
        "colab_type": "text"
      },
      "source": [
        "<a href=\"https://colab.research.google.com/github/somularamamaheswarreddy/11239a088/blob/main/ex_4.ipynb\" target=\"_parent\"><img src=\"https://colab.research.google.com/assets/colab-badge.svg\" alt=\"Open In Colab\"/></a>"
      ]
    },
    {
      "cell_type": "code",
      "execution_count": 2,
      "metadata": {
        "colab": {
          "base_uri": "https://localhost:8080/"
        },
        "id": "_DEQCA7_1Cvb",
        "outputId": "60b231cb-05c6-466b-c841-0ed7fb625fdf"
      },
      "outputs": [
        {
          "output_type": "stream",
          "name": "stdout",
          "text": [
            "Maximum value in knapsack: 240.0\n",
            "\n",
            "Items taken (Weight, Value, Fraction):\n",
            "Weight: 10, Value: 60, Fraction: 1.0\n",
            "Weight: 20, Value: 100, Fraction: 1.0\n",
            "Weight: 20, Value: 80.0, Fraction: 0.6666666666666666\n"
          ]
        }
      ],
      "source": [
        "class Item:\n",
        "    def __init__(self, value, weight): # Added __ before and after init\n",
        "        self.value = value\n",
        "        self.weight = weight\n",
        "        self.ratio = value / weight\n",
        "\n",
        "def fractional_knapsack(capacity, items):\n",
        "    # Sort items by value-to-weight ratio (descending)\n",
        "    items.sort(key=lambda x: x.ratio, reverse=True)\n",
        "\n",
        "    total_value = 0.0\n",
        "    result = []\n",
        "\n",
        "    for item in items:\n",
        "        if capacity >= item.weight:\n",
        "            # Take the whole item\n",
        "            capacity -= item.weight\n",
        "            total_value += item.value\n",
        "            result.append((item.weight, item.value, 1.0))\n",
        "        else:\n",
        "            # Take a fraction of the item\n",
        "            fraction = capacity / item.weight\n",
        "            total_value += item.value * fraction\n",
        "            result.append((capacity, item.value * fraction, fraction))\n",
        "            break\n",
        "\n",
        "    return total_value, result\n",
        "\n",
        "# Example items: (value, weight)\n",
        "items = [Item(60, 10), Item(100, 20), Item(120, 30)]\n",
        "capacity = 50\n",
        "\n",
        "max_value, taken_items = fractional_knapsack(capacity, items)\n",
        "\n",
        "print(\"Maximum value in knapsack:\", max_value)\n",
        "print(\"\\nItems taken (Weight, Value, Fraction):\")\n",
        "for w, v, f in taken_items:\n",
        "    print(f\"Weight: {w}, Value: {v}, Fraction: {f}\")\n"
      ]
    }
  ]
}