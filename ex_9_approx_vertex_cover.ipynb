{
  "nbformat": 4,
  "nbformat_minor": 0,
  "metadata": {
    "colab": {
      "provenance": [],
      "authorship_tag": "ABX9TyP4QMQfneKbpdCTg2i/6Qg0",
      "include_colab_link": true
    },
    "kernelspec": {
      "name": "python3",
      "display_name": "Python 3"
    },
    "language_info": {
      "name": "python"
    }
  },
  "cells": [
    {
      "cell_type": "markdown",
      "metadata": {
        "id": "view-in-github",
        "colab_type": "text"
      },
      "source": [
        "<a href=\"https://colab.research.google.com/github/somularamamaheswarreddy/11239a088/blob/main/ex_9_approx_vertex_cover.ipynb\" target=\"_parent\"><img src=\"https://colab.research.google.com/assets/colab-badge.svg\" alt=\"Open In Colab\"/></a>"
      ]
    },
    {
      "cell_type": "code",
      "execution_count": 1,
      "metadata": {
        "colab": {
          "base_uri": "https://localhost:8080/"
        },
        "id": "p76IyCFG-M-2",
        "outputId": "cb218455-c3c7-4928-eb86-a173d083b27b"
      },
      "outputs": [
        {
          "output_type": "stream",
          "name": "stdout",
          "text": [
            "Approximate Vertex Cover: {0, 1, 2, 3}\n",
            "Size of cover: 4\n"
          ]
        }
      ],
      "source": [
        "def approx_vertex_cover(graph):\n",
        "    visited_edges = set()\n",
        "    vertex_cover = set()\n",
        "\n",
        "    for u in graph:\n",
        "        for v in graph[u]:\n",
        "            if (u, v) not in visited_edges and (v, u) not in visited_edges:\n",
        "                # Add both vertices of the edge to the cover\n",
        "                vertex_cover.add(u)\n",
        "                vertex_cover.add(v)\n",
        "\n",
        "                # Mark all edges from u and v as visited\n",
        "                for neighbor in graph[u]:\n",
        "                    visited_edges.add((u, neighbor))\n",
        "                    visited_edges.add((neighbor, u))\n",
        "                for neighbor in graph[v]:\n",
        "                    visited_edges.add((v, neighbor))\n",
        "                    visited_edges.add((neighbor, v))\n",
        "                break  # Move on to next edge group\n",
        "\n",
        "    return vertex_cover\n",
        "\n",
        "# Example usage\n",
        "graph = {\n",
        "    0: [1, 2],\n",
        "    1: [0, 2],\n",
        "    2: [0, 1, 3],\n",
        "    3: [2, 4],\n",
        "    4: [3]\n",
        "}\n",
        "\n",
        "vertex_cover = approx_vertex_cover(graph)\n",
        "print(\"Approximate Vertex Cover:\", vertex_cover)\n",
        "print(\"Size of cover:\", len(vertex_cover))"
      ]
    }
  ]
}