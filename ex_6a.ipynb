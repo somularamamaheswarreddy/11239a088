{
  "nbformat": 4,
  "nbformat_minor": 0,
  "metadata": {
    "colab": {
      "provenance": [],
      "authorship_tag": "ABX9TyP/MgBvUkH9GNStmTpICf4+",
      "include_colab_link": true
    },
    "kernelspec": {
      "name": "python3",
      "display_name": "Python 3"
    },
    "language_info": {
      "name": "python"
    }
  },
  "cells": [
    {
      "cell_type": "markdown",
      "metadata": {
        "id": "view-in-github",
        "colab_type": "text"
      },
      "source": [
        "<a href=\"https://colab.research.google.com/github/somularamamaheswarreddy/11239a088/blob/main/ex_6a.ipynb\" target=\"_parent\"><img src=\"https://colab.research.google.com/assets/colab-badge.svg\" alt=\"Open In Colab\"/></a>"
      ]
    },
    {
      "cell_type": "code",
      "execution_count": 1,
      "metadata": {
        "colab": {
          "base_uri": "https://localhost:8080/"
        },
        "id": "Sja--MqL2hP9",
        "outputId": "c31c3160-c54b-43b8-e0bf-1ff34d57115d"
      },
      "outputs": [
        {
          "output_type": "stream",
          "name": "stdout",
          "text": [
            "Original Graph:\n",
            "edge: 0 -> 1 with weight 2\n",
            "edge: 0 -> 3 with weight 6\n",
            "edge: 1 -> 0 with weight 2\n",
            "edge: 1 -> 2 with weight 3\n",
            "edge: 2 -> 1 with weight 3\n",
            "edge: 2 -> 3 with weight 7\n",
            "edge: 3 -> 0 with weight 6\n",
            "edge: 3 -> 1 with weight 8\n",
            "\n",
            "MST (Minimum Spanning Tree):\n",
            "edge: 0 -> 1 with weight 2\n",
            "edge: 1 -> 2 with weight 3\n",
            "edge: 2 -> 3 with weight 6\n",
            "\n",
            "Total weight of the MST: 11\n"
          ]
        }
      ],
      "source": [
        "import heapq\n",
        "def prims_algorithm(graph, start_vertex):\n",
        "    num_vertices = len(graph)\n",
        "    mst = []\n",
        "    total_weight = 0\n",
        "    visited = [False] * num_vertices\n",
        "    min_heap = [(0, start_vertex)]\n",
        "    while min_heap:\n",
        "        weight, vertex = heapq.heappop(min_heap)\n",
        "        if visited[vertex]:\n",
        "            continue\n",
        "        visited[vertex] = True\n",
        "        total_weight += weight\n",
        "        if weight != 0:\n",
        "            mst.append((prev_vertex, vertex, weight))\n",
        "        for neighbor, edge_weight in graph[vertex]:\n",
        "            if not visited[neighbor]:\n",
        "                heapq.heappush(min_heap, (edge_weight, neighbor))\n",
        "                prev_vertex = vertex\n",
        "    return mst, total_weight\n",
        "graph = {\n",
        "    0: [(1, 2), (3, 6)],\n",
        "    1: [(0, 2), (2, 3)],\n",
        "    2: [(1, 3), (3, 7)],\n",
        "    3: [(0, 6), (1, 8)]\n",
        "}\n",
        "start_vertex = 0\n",
        "mst, total_weight = prims_algorithm(graph, start_vertex)\n",
        "print(\"Original Graph:\")\n",
        "for vertex, edges in graph.items():\n",
        "    for neighbor, weight in edges:\n",
        "        print(f\"edge: {vertex} -> {neighbor} with weight {weight}\")\n",
        "print(\"\\nMST (Minimum Spanning Tree):\")\n",
        "for edge in mst:\n",
        "    print(f\"edge: {edge[0]} -> {edge[1]} with weight {edge[2]}\")\n",
        "print(f\"\\nTotal weight of the MST: {total_weight}\")"
      ]
    }
  ]
}