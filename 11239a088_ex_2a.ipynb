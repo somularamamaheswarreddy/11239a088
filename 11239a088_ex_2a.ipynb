{
  "nbformat": 4,
  "nbformat_minor": 0,
  "metadata": {
    "colab": {
      "provenance": [],
      "authorship_tag": "ABX9TyPNgfZmeH+v1doTYJlys3am",
      "include_colab_link": true
    },
    "kernelspec": {
      "name": "python3",
      "display_name": "Python 3"
    },
    "language_info": {
      "name": "python"
    }
  },
  "cells": [
    {
      "cell_type": "markdown",
      "metadata": {
        "id": "view-in-github",
        "colab_type": "text"
      },
      "source": [
        "<a href=\"https://colab.research.google.com/github/somularamamaheswarreddy/11239a088/blob/main/11239a088_ex_2a.ipynb\" target=\"_parent\"><img src=\"https://colab.research.google.com/assets/colab-badge.svg\" alt=\"Open In Colab\"/></a>"
      ]
    },
    {
      "cell_type": "code",
      "execution_count": 1,
      "metadata": {
        "colab": {
          "base_uri": "https://localhost:8080/"
        },
        "id": "7cYb6mGwr7ZZ",
        "outputId": "cf685ca0-4803-4538-cf40-d8b2f0cd20ab"
      },
      "outputs": [
        {
          "output_type": "stream",
          "name": "stdout",
          "text": [
            "enter a number:6\n",
            "0 1 1 2 3 5 "
          ]
        }
      ],
      "source": [
        "def fib(n):\n",
        "    a,b=0,1\n",
        "    count=0\n",
        "    while count<n:\n",
        "        print(a, end=\" \")\n",
        "        temp=a+b\n",
        "        a=b\n",
        "        b=temp\n",
        "        count+=1\n",
        "n=int(input(\"enter a number:\"))\n",
        "fib(n)"
      ]
    }
  ]
}