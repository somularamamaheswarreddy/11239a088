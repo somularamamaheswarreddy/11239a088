{
  "nbformat": 4,
  "nbformat_minor": 0,
  "metadata": {
    "colab": {
      "provenance": [],
      "authorship_tag": "ABX9TyOwdgGvPbHycpKKypC0Dcej",
      "include_colab_link": true
    },
    "kernelspec": {
      "name": "python3",
      "display_name": "Python 3"
    },
    "language_info": {
      "name": "python"
    }
  },
  "cells": [
    {
      "cell_type": "markdown",
      "metadata": {
        "id": "view-in-github",
        "colab_type": "text"
      },
      "source": [
        "<a href=\"https://colab.research.google.com/github/somularamamaheswarreddy/11239a088/blob/main/ex_6b.ipynb\" target=\"_parent\"><img src=\"https://colab.research.google.com/assets/colab-badge.svg\" alt=\"Open In Colab\"/></a>"
      ]
    },
    {
      "cell_type": "code",
      "source": [
        "class disjointSet:\n",
        "    def __init__(self, n): # Changed _init to __init__\n",
        "        self.parent = list(range(n))\n",
        "        self.rank = [0] * n\n",
        "    def find(self, u):\n",
        "        if self.parent[u] != u:\n",
        "            self.parent[u] = self.find(self.parent[u])\n",
        "        return self.parent[u]\n",
        "    def union(self, u, v):\n",
        "        root_u = self.find(u)\n",
        "        root_v = self.find(v)\n",
        "        if root_u != root_v:\n",
        "            if self.rank[root_u] > self.rank[root_v]:\n",
        "                self.parent[root_v] = root_u\n",
        "            elif self.rank[root_u] < self.rank[root_v]:\n",
        "                self.parent[root_u] = root_v\n",
        "            else:\n",
        "                self.parent[root_v] = root_u\n",
        "                self.rank[root_u] += 1\n",
        "            return True\n",
        "        return False\n",
        "def kruskal_algorithm(graph, num_vertices):\n",
        "    edges = []\n",
        "    for u in graph:\n",
        "        for v, weight in graph[u]:\n",
        "            edges.append((weight, u, v))\n",
        "    edges.sort()\n",
        "    ds = disjointSet(num_vertices)\n",
        "    mst = []\n",
        "    total_weight = 0\n",
        "    for weight, u, v in edges:\n",
        "        if ds.union(u, v):\n",
        "            mst.append((u, v, weight))\n",
        "            total_weight += weight\n",
        "    return mst, total_weight\n",
        "graph = {\n",
        "    0: [(1, 2), (3, 6)],\n",
        "    1: [(0, 2), (2, 3)],\n",
        "    2: [(1, 3), (3, 7)],\n",
        "    3: [(0, 6), (1, 8)]\n",
        "}\n",
        "num_vertices = 5\n",
        "mst, total_weight = kruskal_algorithm(graph, num_vertices)\n",
        "print(\"Original Graph:\")\n",
        "for vertex, edges in graph.items():\n",
        "    for neighbor, weight in edges:\n",
        "        print(f\"Edge: {vertex} -> {neighbor} with weight {weight}\")\n",
        "print(\"\\nMST (Minimum Spanning Tree):\")\n",
        "for edge in mst:\n",
        "    print(f\"Edge: {edge[0]} -> {edge[1]} with weight {edge[2]}\")\n",
        "print(f\"\\nTotal weight of the MST: {total_weight}\")"
      ],
      "metadata": {
        "colab": {
          "base_uri": "https://localhost:8080/"
        },
        "id": "mxbsMXD75jJD",
        "outputId": "2b54e21b-8184-45f9-a381-5b64a53260f8"
      },
      "execution_count": 7,
      "outputs": [
        {
          "output_type": "stream",
          "name": "stdout",
          "text": [
            "Original Graph:\n",
            "Edge: 0 -> 1 with weight 2\n",
            "Edge: 0 -> 3 with weight 6\n",
            "Edge: 1 -> 0 with weight 2\n",
            "Edge: 1 -> 2 with weight 3\n",
            "Edge: 2 -> 1 with weight 3\n",
            "Edge: 2 -> 3 with weight 7\n",
            "Edge: 3 -> 0 with weight 6\n",
            "Edge: 3 -> 1 with weight 8\n",
            "\n",
            "MST (Minimum Spanning Tree):\n",
            "Edge: 0 -> 1 with weight 2\n",
            "Edge: 1 -> 2 with weight 3\n",
            "Edge: 0 -> 3 with weight 6\n",
            "\n",
            "Total weight of the MST: 11\n"
          ]
        }
      ]
    }
  ]
}