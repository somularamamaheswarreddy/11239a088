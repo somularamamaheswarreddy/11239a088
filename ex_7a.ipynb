{
  "nbformat": 4,
  "nbformat_minor": 0,
  "metadata": {
    "colab": {
      "provenance": [],
      "authorship_tag": "ABX9TyPI4WcU4YIQUfUMYYS6U6KS",
      "include_colab_link": true
    },
    "kernelspec": {
      "name": "python3",
      "display_name": "Python 3"
    },
    "language_info": {
      "name": "python"
    }
  },
  "cells": [
    {
      "cell_type": "markdown",
      "metadata": {
        "id": "view-in-github",
        "colab_type": "text"
      },
      "source": [
        "<a href=\"https://colab.research.google.com/github/somularamamaheswarreddy/11239a088/blob/main/ex_7a.ipynb\" target=\"_parent\"><img src=\"https://colab.research.google.com/assets/colab-badge.svg\" alt=\"Open In Colab\"/></a>"
      ]
    },
    {
      "cell_type": "code",
      "execution_count": 1,
      "metadata": {
        "colab": {
          "base_uri": "https://localhost:8080/"
        },
        "id": "H-Pt9kUj6EJ2",
        "outputId": "8aed8812-b670-4471-a4ef-60ea3d71885c"
      },
      "outputs": [
        {
          "output_type": "stream",
          "name": "stdout",
          "text": [
            "source node:A\n",
            "\n",
            "Shortest path from A to A:A (Distance: 0)\n",
            "Shortest path from A to B:A->B (Distance: 2)\n",
            "Shortest path from A to C:A->C (Distance: 6)\n",
            "Shortest path from A to D:A->B->D (Distance: 5)\n",
            "Shortest path from A to E:A->B->E (Distance: 9)\n"
          ]
        }
      ],
      "source": [
        "import heapq\n",
        "def dijkstra_with_paths(graph,start):\n",
        "  pq=[(0,start)]\n",
        "  distances={node:float ('inf') for node in graph}\n",
        "  distances[start]=0\n",
        "  predecessors={node:None for node in graph}\n",
        "  while pq:\n",
        "    current_distance,current_node=heapq.heappop(pq)\n",
        "    if current_distance>distances[current_node]:\n",
        "      continue\n",
        "    for neighbor,weight in graph[current_node].items():\n",
        "        distance=current_distance+weight\n",
        "        if distance<distances[neighbor]:\n",
        "          distances[neighbor]=distance\n",
        "          predecessors[neighbor]=current_node\n",
        "          heapq.heappush(pq,(distance,neighbor))\n",
        "  return distances,predecessors\n",
        "def reconstruct_path(predecessors,start,end):\n",
        "  path=[]\n",
        "  while end is not None:\n",
        "    path.insert(0,end)\n",
        "    end=predecessors[end]\n",
        "  return path if path[0]==start else[]\n",
        "graph={\n",
        "    'A':{'B':2,'C':6},\n",
        "    'B':{'D':3,'E':7},\n",
        "    'C':{'D':1},\n",
        "    'D':{'E':8},\n",
        "    'E':{}\n",
        "  }\n",
        "start_node='A'\n",
        "distances,predecessors=dijkstra_with_paths(graph,start_node)\n",
        "print(f\"source node:{start_node}\\n\")\n",
        "for node in graph:\n",
        "  path=reconstruct_path(predecessors,start_node,node)\n",
        "  path_str=\"->\".join(path)if path else \"No path\"\n",
        "  print(f\"Shortest path from {start_node} to {node}:{path_str} (Distance: {distances[node]})\")"
      ]
    }
  ]
}