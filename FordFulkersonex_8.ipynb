{
  "nbformat": 4,
  "nbformat_minor": 0,
  "metadata": {
    "colab": {
      "provenance": [],
      "authorship_tag": "ABX9TyPAT0AhupmIlmVaau+HfYIR",
      "include_colab_link": true
    },
    "kernelspec": {
      "name": "python3",
      "display_name": "Python 3"
    },
    "language_info": {
      "name": "python"
    }
  },
  "cells": [
    {
      "cell_type": "markdown",
      "metadata": {
        "id": "view-in-github",
        "colab_type": "text"
      },
      "source": [
        "<a href=\"https://colab.research.google.com/github/somularamamaheswarreddy/11239a088/blob/main/FordFulkersonex_8.ipynb\" target=\"_parent\"><img src=\"https://colab.research.google.com/assets/colab-badge.svg\" alt=\"Open In Colab\"/></a>"
      ]
    },
    {
      "cell_type": "code",
      "execution_count": 2,
      "metadata": {
        "colab": {
          "base_uri": "https://localhost:8080/"
        },
        "id": "X4J_n3Ul69PF",
        "outputId": "dfc67ffd-cbbb-47d7-ea80-49248b07b70d"
      },
      "outputs": [
        {
          "output_type": "stream",
          "name": "stdout",
          "text": [
            "Source: S, Sink: T\n",
            "Finding augmenting paths...\n",
            "\n",
            "Augmenting path: S -> A -> B -> T | Path flow: 4\n",
            "Augmenting path: S -> A -> C -> D -> B -> T | Path flow: 2\n",
            "Augmenting path: S -> C -> D -> B -> T | Path flow: 4\n",
            "Augmenting path: S -> C -> D -> T | Path flow: 3\n",
            "\n",
            "Maximum possible flow from S to T: 13\n"
          ]
        }
      ],
      "source": [
        "from collections import defaultdict\n",
        "\n",
        "# Ford-Fulkerson using DFS\n",
        "class FordFulkerson:\n",
        "    def __init__(self, graph): # Fixed: __init__ instead of _init_\n",
        "        self.graph = graph # Original graph (capacity)\n",
        "        self.residual_graph = defaultdict(dict) # Residual graph\n",
        "        self.build_residual_graph()\n",
        "\n",
        "    def build_residual_graph(self):\n",
        "        for u in self.graph:\n",
        "            for v in self.graph[u]:\n",
        "                self.residual_graph[u][v] = self.graph[u][v]\n",
        "                if v not in self.residual_graph:\n",
        "                    self.residual_graph[v] = {}\n",
        "\n",
        "    def dfs(self, u, t, visited, parent):\n",
        "        visited.add(u)\n",
        "        if u == t:\n",
        "            return True\n",
        "        for v, capacity in self.residual_graph[u].items():\n",
        "            if v not in visited and capacity > 0:\n",
        "                parent[v] = u\n",
        "                if self.dfs(v, t, visited, parent):\n",
        "                    return True\n",
        "        return False\n",
        "\n",
        "    def find_path(self, parent, source, sink):\n",
        "        path = []\n",
        "        node = sink # Fixed: Corrected indentation\n",
        "        while node != source:\n",
        "            path.insert(0, node)\n",
        "            node = parent[node]\n",
        "        path.insert(0, source)\n",
        "        return path\n",
        "\n",
        "    def max_flow(self, source, sink):\n",
        "        parent = {}\n",
        "        max_flow = 0\n",
        "        print(f\"Source: {source}, Sink: {sink}\")\n",
        "        print(\"Finding augmenting paths...\\n\")\n",
        "\n",
        "        while self.dfs(source, sink, set(), parent):\n",
        "            # Find minimum residual capacity in the path\n",
        "            path_flow = float('inf')\n",
        "            s = sink\n",
        "            while s != source:\n",
        "                path_flow = min(path_flow, self.residual_graph[parent[s]][s])\n",
        "                s = parent[s]\n",
        "\n",
        "            # Update residual graph\n",
        "            v = sink\n",
        "            while v != source:\n",
        "                u = parent[v]\n",
        "                self.residual_graph[u][v] -= path_flow\n",
        "                self.residual_graph[v][u] = self.residual_graph[v].get(u, 0) + path_flow\n",
        "                v = parent[v]\n",
        "\n",
        "            augmenting_path = self.find_path(parent, source, sink)\n",
        "            print(f\"Augmenting path: {' -> '.join(augmenting_path)} | Path flow: {path_flow}\")\n",
        "\n",
        "            max_flow += path_flow\n",
        "            parent.clear()\n",
        "\n",
        "        print(f\"\\nMaximum possible flow from {source} to {sink}: {max_flow}\")\n",
        "\n",
        "# ---------- Example graph -------------\n",
        "graph = {\n",
        "    'S': {'A': 10, 'C': 10},\n",
        "    'A': {'B': 4, 'C': 2},\n",
        "    'B': {'T': 10},\n",
        "    'C': {'D': 9},\n",
        "    'D': {'B': 6, 'T': 10},\n",
        "    'T': {}\n",
        "}\n",
        "\n",
        "# Run Ford-Fulkerson Algorithm\n",
        "ff = FordFulkerson(graph)\n",
        "ff.max_flow('S', 'T')"
      ]
    }
  ]
}